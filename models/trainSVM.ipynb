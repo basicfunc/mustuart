{
 "cells": [
  {
   "cell_type": "code",
   "execution_count": 7,
   "id": "0f1505fc-a56f-453f-ba33-8335b33049fb",
   "metadata": {
    "tags": []
   },
   "outputs": [
    {
     "name": "stdout",
     "output_type": "stream",
     "text": [
      "Running PCA\n",
      "Shape of training set after pca:\n",
      "(900, 900)\n",
      "Shape of test set after pca:\n",
      "(100, 900)\n",
      "Training SVM\n",
      "Best parameters: {'C': 0.01, 'degree': 2, 'gamma': 'scale', 'kernel': 'linear'}\n",
      "Train Accuracy: 99.89%\n",
      "Test Accuracy: 70.00%\n"
     ]
    }
   ],
   "source": [
    "import os\n",
    "import numpy as np\n",
    "import pickle\n",
    "from sklearn.decomposition import PCA\n",
    "from sklearn.svm import SVC\n",
    "from sklearn.model_selection import GridSearchCV\n",
    "\n",
    "with open('dataset/preprocessed_data.pickle', 'rb') as f:\n",
    "    data = pickle.load(f)\n",
    "    \n",
    "train_data = data['train_dataset']\n",
    "test_data = data['test_dataset']\n",
    "\n",
    "train_labels = data['train_labels']\n",
    "test_labels = data['test_labels']\n",
    "\n",
    "input_width = train_data.shape[1]\n",
    "input_height = train_data.shape[2]\n",
    "\n",
    "train_data = train_data.reshape((-1, input_width * input_height)).astype(np.float32)\n",
    "test_data = test_data.reshape((-1, input_width * input_height)).astype(np.float32)\n",
    "\n",
    "print(\"Running PCA\")\n",
    "\n",
    "# run pca to reduce vector size to 900\n",
    "pca = PCA(n_components=900)\n",
    "\n",
    "pca.fit(train_data)\n",
    "\n",
    "train_data = pca.transform(train_data)\n",
    "\n",
    "test_data = pca.transform(test_data)\n",
    "\n",
    "print(\"Shape of training set after pca:\")\n",
    "print(train_data.shape)\n",
    "\n",
    "print(\"Shape of test set after pca:\")\n",
    "print(test_data.shape)\n",
    "\n",
    "# computes accuracy given the predictions and real labels\n",
    "def accuracy(predictions, labels):\n",
    "    batch_size = predictions.shape[0]\n",
    "    sum = np.sum(predictions == labels)\n",
    "    acc = (100.0 * sum) / batch_size\n",
    "    return acc\n",
    "\n",
    "print(\"Training SVM\")\n",
    "\n",
    "# hyperparameter tuning using grid search\n",
    "param_grid = {'C': [0.01, 0.1, 1, 10, 100],\n",
    "              'kernel': ['linear', 'poly', 'rbf'],\n",
    "              'degree': [2, 3, 4],\n",
    "              'gamma': ['scale', 'auto']}\n",
    "\n",
    "clf = GridSearchCV(SVC(), param_grid, cv=5)\n",
    "\n",
    "clf.fit(train_data, train_labels)\n",
    "\n",
    "print(f\"Best parameters: {clf.best_params_}\")\n",
    "\n",
    "# getting predictions of training set\n",
    "train_predictions = clf.predict(train_data)\n",
    "\n",
    "print(f\"Train Accuracy: {accuracy(train_predictions, train_labels):.2f}%\")\n",
    "\n",
    "# getting predictions of test set\n",
    "test_predictions = clf.predict(test_data)\n",
    "\n",
    "print(f\"Test Accuracy: {accuracy(test_predictions, test_labels):.2f}%\")\n",
    "\n",
    "if os.path.exists('models/svm_model.pkl'):\n",
    "    print('File already exists.')\n",
    "else:\n",
    "    with open('models/svm_model.pkl', 'wb') as f:\n",
    "        pickle.dump(clf, f)"
   ]
  },
  {
   "cell_type": "code",
   "execution_count": null,
   "id": "ab1406ed-1240-4315-a3e6-7cee60b6cae2",
   "metadata": {},
   "outputs": [],
   "source": []
  }
 ],
 "metadata": {
  "kernelspec": {
   "display_name": "Python 3 (ipykernel)",
   "language": "python",
   "name": "python3"
  },
  "language_info": {
   "codemirror_mode": {
    "name": "ipython",
    "version": 3
   },
   "file_extension": ".py",
   "mimetype": "text/x-python",
   "name": "python",
   "nbconvert_exporter": "python",
   "pygments_lexer": "ipython3",
   "version": "3.10.10"
  }
 },
 "nbformat": 4,
 "nbformat_minor": 5
}
